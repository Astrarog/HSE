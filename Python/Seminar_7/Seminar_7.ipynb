{
 "cells": [
  {
   "cell_type": "markdown",
   "metadata": {},
   "source": [
    "<!-- <div style='float:right'><img width=200 src=\"hse-logo.jpg\" alt=\"HSE logo\"></img></div> -->\n",
    "<div style='float:left'><img width=400 src=\"python_logo.png\" alt=\"Python\"></img></div>\n",
    "\n",
    "<div style='float:right'>\n",
    "\n",
    "<h1 align='center'>Язык программирования Python</h1>\n",
    "\n",
    "<h2 align='right'>Бобер Станислав Алексеевич</h2>\n",
    "<h3 align='right'>Ст. преп. Департамента Прикладной Математики</h3>\n",
    "<h3 align='right'>e-mail: sbober@hse.ru, stas.bober@gmail.com</h3>\n",
    "</div>"
   ]
  },
  {
   "cell_type": "markdown",
   "metadata": {},
   "source": [
    "# Семинар 7\n",
    "\n",
    "Теоретическая часть:\n",
    "[Лекция 7](https://github.com/BoberSA/PythonCourse/blob/master/Lecture_7/Lecture_7.ipynb)"
   ]
  },
  {
   "cell_type": "markdown",
   "metadata": {},
   "source": [
    "# Темы семинара:\n",
    "\n",
    "### 0. Объектно-ориентированное программирование в Python"
   ]
  },
  {
   "cell_type": "markdown",
   "metadata": {},
   "source": [
    "### Задание 0. Классы\n",
    "\n",
    "Создать класс Point, от которого унаследован Shape, а от него - Circle и Square.\n",
    "\n",
    "Point - точка на плоскости, отображаемая определенным маркером '.'.\n",
    "\n",
    "Shape - абстрактная фигура, не имеющая формы, которая также отображается на графике маркером 'x'.\n",
    "\n",
    "Circle и Square отображаются на графике в виде круга и квадрата заданных размеров.\n",
    "\n",
    "Вся иерархия должна:\n",
    "1. реализовывать метод draw(self), который отрисовывает объект при помощи matplotlib; [0.2]\n",
    "2. (кроме Point) реализовывать метод is_inside(self, point), где point - объект класса Point. Метод проверяет, лежит ли точка внутри фигуры; [0.2]\n",
    "3. создать несколько объектов классов Circle, Square, отрисовать и проверить несколько точек на принадлежность им; [0.2]\n",
    "4. создать класс Union, унаследованный от Shape, являющий объединением фигур-наследников класса Shape из заданного списка, реализующий обе функции (draw, is_inside); [0.2]\n",
    "5. создать класс Intersection, унаследованный от Shape, являющий пересечением фигур-наследников класса Shape из заданного списка, реализующий обе функции (draw, is_inside); [0.2]\n"
   ]
  },
  {
   "cell_type": "code",
   "execution_count": 131,
   "metadata": {},
   "outputs": [],
   "source": [
    "import matplotlib.patches as patches\n",
    "class Point:\n",
    "        \n",
    "    x_bounds = (-1, 1)\n",
    "    y_bounds = (-1, 1)\n",
    "    \n",
    "    def __init__ (self, x, y):\n",
    "        self.x = x\n",
    "        self.y = y\n",
    "        \n",
    "    def draw(self, ax):\n",
    "        ax.scatter(self.x, self.y)\n",
    "        Point.reshape_bound(self.x, self.x, self.y, self.y, ax)\n",
    "\n",
    "        \n",
    "    @staticmethod\n",
    "    def reshape_bound(x_left, x_right, y_bottom, y_top, ax):\n",
    "        new_x_left = min(Shape.x_bounds[0], x_left)\n",
    "        new_x_right = max(Shape.x_bounds[1], x_right)\n",
    "        new_y_bottom = min(Shape.y_bounds[0], y_bottom)\n",
    "        new_y_top = max(Shape.y_bounds[1], y_top)\n",
    "        \n",
    "        Shape.x_bounds = (new_x_left, new_x_right)\n",
    "        Shape.y_bounds = (new_y_bottom, new_y_top)\n",
    "        ax.set_xlim(Shape.x_bounds[0] - 0.1, Shape.x_bounds[1] + 0.1)\n",
    "        ax.set_ylim(Shape.y_bounds[0] - 0.1, Shape.y_bounds[1] + 0.1)\n",
    "        ax.set_aspect(1)\n",
    "        \n",
    "\n",
    "class Shape(Point):\n",
    "\n",
    "    def draw(self, ax):\n",
    "        ax.scatter(self.x, self.y, \"x\")\n",
    "        \n",
    "\n",
    "class Circle(Shape):\n",
    "    def __init__(self, point, radius):\n",
    "        super().__init__(point.x, point.y)\n",
    "        self.r = radius    \n",
    "    \n",
    "    def draw(self, ax):\n",
    "        circle = patches.Circle((self.x, self.y), self.r, alpha=0.4)\n",
    "        ax.add_patch(circle)\n",
    "        Shape.reshape_bound(self.x - self.r, self.x + self.r, self.y - self.r, self.y + self.r, ax)\n",
    "        return ax\n",
    "        \n",
    "    def is_inside(self, point):\n",
    "        return ((self.x - point.x) ** 2 + (self.y - point.y) ** 2 <= self.r ** 2 )\n",
    "\n",
    "    \n",
    "class Square(Shape):\n",
    "    def __init__(self, point, height):\n",
    "        super().__init__(point.x, point.y)\n",
    "        self.h_w = height\n",
    "    \n",
    "    def draw(self, ax):\n",
    "        rect = patches.Rectangle((self.x, self.y), self.h_w, self.h_w, alpha=0.4)\n",
    "        ax.add_patch(rect)\n",
    "        Shape.reshape_bound(self.x, self.x + self.h_w, self.y, self.y + self.h_w, ax)\n",
    "        return ax\n",
    "        \n",
    "    def is_inside(self, point):\n",
    "        return ( self.x <= point.x and point.x <= self.x + self.h_w and self.y <= point.y and point.y <= self.y + self.h_w )\n",
    "    \n",
    "\n",
    "class Union(Shape):\n",
    "    def __init__ (self, lst):\n",
    "        self.list = lst\n",
    "        \n",
    "    def draw(self, ax):\n",
    "        for elem in self.list:\n",
    "            elem.draw(ax)\n",
    "        return ax\n",
    "    \n",
    "    def is_inside(self, point):\n",
    "        for elem in self.list:\n",
    "            if (elem.is_inside(point)):\n",
    "                return True\n",
    "        return False\n",
    "\n",
    "\n",
    "class Intersection(Shape):\n",
    "    def __init__ (self, lst):\n",
    "        self.list = lst\n",
    "        \n",
    "    def draw(self, ax):\n",
    "        for elem in self.list:\n",
    "            elem.draw(ax)\n",
    "        return ax\n",
    "    \n",
    "    def is_inside(self, point):\n",
    "        for elem in self.list:\n",
    "            if not (elem.is_inside(point)):\n",
    "                return False\n",
    "        return True"
   ]
  },
  {
   "cell_type": "code",
   "execution_count": 132,
   "metadata": {},
   "outputs": [],
   "source": [
    "import matplotlib.pyplot as plt\n",
    "import matplotlib.patches as patches"
   ]
  },
  {
   "cell_type": "code",
   "execution_count": 133,
   "metadata": {},
   "outputs": [
    {
     "data": {
      "image/png": "[encoded data removed]",
      "text/plain": [
       "<Figure size 432x288 with 1 Axes>"
      ]
     },
     "metadata": {
      "needs_background": "light"
     },
     "output_type": "display_data"
    }
   ],
   "source": [
    "_, ax = plt.subplots()\n",
    "p = Point(1,1)\n",
    "p.draw(ax)\n",
    "plt.show()"
   ]
  },
  {
   "cell_type": "code",
   "execution_count": 134,
   "metadata": {},
   "outputs": [
    {
     "data": {
      "image/png": "[encoded data removed]",
      "text/plain": [
       "<Figure size 432x288 with 1 Axes>"
      ]
     },
     "metadata": {
      "needs_background": "light"
     },
     "output_type": "display_data"
    }
   ],
   "source": [
    "_, ax = plt.subplots()\n",
    "p = Point(-2,-2)\n",
    "c = Circle(p, 1)\n",
    "c.draw(ax)\n",
    "plt.show()"
   ]
  },
  {
   "cell_type": "code",
   "execution_count": 135,
   "metadata": {},
   "outputs": [
    {
     "data": {
      "image/png": "[encoded data removed]",
      "text/plain": [
       "<Figure size 432x288 with 1 Axes>"
      ]
     },
     "metadata": {
      "needs_background": "light"
     },
     "output_type": "display_data"
    }
   ],
   "source": [
    "_, ax = plt.subplots()\n",
    "p = Point(-2,-2)\n",
    "s = Square(p, 1)\n",
    "s.draw(ax)\n",
    "plt.show()"
   ]
  },
  {
   "cell_type": "code",
   "execution_count": 136,
   "metadata": {},
   "outputs": [
    {
     "name": "stdout",
     "output_type": "stream",
     "text": [
      "False\n"
     ]
    },
    {
     "data": {
      "image/png": "[encoded data removed]",
      "text/plain": [
       "<Figure size 432x288 with 1 Axes>"
      ]
     },
     "metadata": {
      "needs_background": "light"
     },
     "output_type": "display_data"
    }
   ],
   "source": [
    "_, ax = plt.subplots()\n",
    "p1 = Point(-2,-2)\n",
    "s = Square(p1, 1)\n",
    "p2 = Point(0, 3)\n",
    "c = Circle(p2, 1)\n",
    "p3 = Point(0.5, 0.5)\n",
    "print(c.is_inside(p3))\n",
    "p3.draw(ax)\n",
    "c.draw(ax)\n",
    "s.draw(ax)\n",
    "plt.show()"
   ]
  },
  {
   "cell_type": "code",
   "execution_count": 137,
   "metadata": {},
   "outputs": [
    {
     "name": "stdout",
     "output_type": "stream",
     "text": [
      "False\n",
      "True\n"
     ]
    },
    {
     "data": {
      "image/png": "[encoded data removed]",
      "text/plain": [
       "<Figure size 432x288 with 1 Axes>"
      ]
     },
     "metadata": {
      "needs_background": "light"
     },
     "output_type": "display_data"
    }
   ],
   "source": [
    "_, ax = plt.subplots()\n",
    "p1 = Point(-2,-2)\n",
    "p2 = Point(0, 3)\n",
    "p3 = Point(0.5, 0.5)\n",
    "u = Union([Square(p3, 1), Circle(p1, 2)])\n",
    "print(u.is_inside(p2))\n",
    "print(u.is_inside(p3))\n",
    "p3.draw(ax)\n",
    "p2.draw(ax)\n",
    "u.draw(ax)\n",
    "plt.show()"
   ]
  },
  {
   "cell_type": "markdown",
   "metadata": {},
   "source": [
    "### Задание 1. Декораторы\n",
    "\n",
    "Исключения в Python бывают разных типов: ValueError, TypeError, RuntimeError и др.\n",
    "Все исключения унаследованы от класса BaseException.\n",
    "\n",
    "Для того, чтобы поймать и корректно обработать исключение, нужно код, который потенциально может его вызвать, поместить в блок try ... except\n",
    "```\n",
    "\n",
    "try:\n",
    "    # do something that should raise exception\n",
    "except тип_исключения as e:\n",
    "    # do something with exception\n",
    "\n",
    "```\n",
    "\n",
    "При возникновении исключения в коде между try и except, когда тип исключения совпадает или является наследником 'тип_исключения', то управление передается в блок except.\n",
    "\n",
    "Требуется:\n",
    "1. написать декоратор, который будет выводить на экран и в файл 'log.txt' в режиме дополнения информацию о возникновении или не возникновении исключений в декорируемой функции.\n",
    "2. протестировать декоратор нарочно вызывая исключения в декорируемой функции при помощи raise. Например:\n",
    "\n",
    "```\n",
    "raise ValueError(\"В функцию передано некорректное значение\")\n",
    "raise TypeError(\"Тип аргумента функции не поддерживается\")\n",
    "и др.\n",
    "```\n"
   ]
  },
  {
   "cell_type": "code",
   "execution_count": 186,
   "metadata": {},
   "outputs": [],
   "source": [
    "def logger(func): \n",
    "    def wrapper(*args, **kwargs):\n",
    "        ans = None\n",
    "        try:\n",
    "            ans = func(*args, **kwargs)\n",
    "        except BaseException as e:\n",
    "            with open('log.txt', 'at') as f:\n",
    "                f.write(f\"Function {func.__name__:^15} FAILED on arguments: {args} {kwargs}.  {type(e).__name__}: {e}\\n\")\n",
    "            return e\n",
    "        else:\n",
    "            with open('log.txt', 'at') as f:\n",
    "                f.write(f\"Function {func.__name__:^15} SUCCEED on arguments: {args} {kwargs}. \\n\")\n",
    "        return ans\n",
    "            \n",
    "\n",
    "    return wrapper\n",
    "\n",
    "@logger\n",
    "def power(a, b):\n",
    "    if b == 0 and a==0:\n",
    "        raise ValueError(\"0 to the power of 0 is undefined\")\n",
    "    return(a ** b)\n",
    "\n",
    "@logger\n",
    "def print_string(s):\n",
    "    if type(s) != str:\n",
    "         raise ValueError(\"Only string can pe printed\")\n",
    "    print(s)"
   ]
  },
  {
   "cell_type": "code",
   "execution_count": 187,
   "metadata": {},
   "outputs": [
    {
     "data": {
      "text/plain": [
       "0"
      ]
     },
     "execution_count": 187,
     "metadata": {},
     "output_type": "execute_result"
    }
   ],
   "source": [
    "power(b=2, a=3)\n",
    "power(0, 0)\n",
    "power(0, 1)"
   ]
  },
  {
   "cell_type": "code",
   "execution_count": 188,
   "metadata": {},
   "outputs": [
    {
     "name": "stdout",
     "output_type": "stream",
     "text": [
      "\n",
      "test\n"
     ]
    },
    {
     "data": {
      "text/plain": [
       "ValueError('Only string can pe printed')"
      ]
     },
     "execution_count": 188,
     "metadata": {},
     "output_type": "execute_result"
    }
   ],
   "source": [
    "print_string(s=\"\")\n",
    "print_string(\"test\")\n",
    "print_string(2)"
   ]
  },
  {
   "cell_type": "code",
   "execution_count": 189,
   "metadata": {},
   "outputs": [
    {
     "name": "stdout",
     "output_type": "stream",
     "text": [
      "Function      power      SUCCEED on arguments: () {'b': 2, 'a': 3}. \n",
      "Function      power      FAILED on arguments: (0, 0) {}.  ValueError: 0 to the power of 0 is undefined\n",
      "Function      power      SUCCEED on arguments: (0, 1) {}. \n",
      "Function  print_string   SUCCEED on arguments: () {'s': ''}. \n",
      "Function  print_string   SUCCEED on arguments: ('test',) {}. \n",
      "Function  print_string   FAILED on arguments: (2,) {}.  ValueError: Only string can pe printed\n"
     ]
    }
   ],
   "source": [
    "!TYPE log.txt"
   ]
  },
  {
   "cell_type": "code",
   "execution_count": null,
   "metadata": {},
   "outputs": [],
   "source": []
  }
 ],
 "metadata": {
  "kernelspec": {
   "display_name": "Python 3",
   "language": "python",
   "name": "python3"
  },
  "language_info": {
   "codemirror_mode": {
    "name": "ipython",
    "version": 3
   },
   "file_extension": ".py",
   "mimetype": "text/x-python",
   "name": "python",
   "nbconvert_exporter": "python",
   "pygments_lexer": "ipython3",
   "version": "3.7.2"
  }
 },
 "nbformat": 4,
 "nbformat_minor": 2
}

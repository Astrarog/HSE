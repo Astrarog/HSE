{
 "cells": [
  {
   "cell_type": "markdown",
   "metadata": {},
   "source": [
    "# Гипергеометрическое распределение\n",
    "\n",
    "### Основные характеристики\n",
    "\n",
    "$\\xi \\sim HG (N, M, n), $ где $N$ - общее число элементов, $M$ - общее число элементов с нужным свойством, $n$ - размер выборки из общего числа элементов $ (n \\leq M \\leq N) $\n",
    "\n",
    "$P (\\xi = k) = \\frac{C_M^k C_{N-M}^{n-k}}{C_N^n}, k=0, ..., n $\n",
    "\n",
    "$ E[\\xi] = \\sum_{k=0}^{n}k\\frac{C_M^k C_{N-M}^{n-k}}{C_N^n} = \\sum_{k=1}^{n}k\\frac{M!C_{N-M}^{n-k}}{(M-k)!k!C_N^n} =  \\sum_{k=0}^{n-1}(k+1)\\frac{M!C_{N-M}^{n-k-1}}{(M-k-1)!(k+1)!C_N^n} = \\sum_{k=0}^{n-1}\\frac{M!C_{N-M}^{n-1-k}}{(M-1-k)!k!C_N^n} = M \\sum_{k=0}^{n-1}\\frac{C_{M-1}^k C_{N-M}^{n-1-k}}{C_N^n}  = $\n",
    "$= \\frac{M n}{N}\\sum_{k=0}^{n-1}\\frac{C_{M-1}^k C_{N-1-M+1}^{n-1-k}}{C_{N-1}^{n-1}} = \\frac{M n}{N}$\n",
    "\n",
    "Стоит пояснить, что $\\sum_{k=0}^{n-1}\\frac{C_{M-1}^k C_{N-1-M+1}^{n-1-k}}{C_{N-1}^{n-1}} = \\sum_{k=0}^{n-1}P(\\eta=k)=1,$ где $\\eta \\sim HG (N-1, M-1, n-1)$ \n",
    "\n",
    "\n",
    "$ E[\\xi^2] = \\sum_{k=0}^{n}k^2\\frac{C_M^k C_{N-M}^{n-k}}{C_N^n} = \\sum_{k=1}^{n}k^2\\frac{M!C_{N-M}^{n-k}}{(M-k)!k!C_N^n} =  \\sum_{k=0}^{n-1}(k+1)^2\\frac{M!C_{N-M}^{n-k-1}}{(M-k-1)!(k+1)!C_N^n} = \\sum_{k=0}^{n-1}(k+1)\\frac{M!C_{N-M}^{n-1-k}}{(M-1-k)!k!C_N^n} = $\n",
    "$ = M \\sum_{k=0}^{n-1}(k+1)\\frac{C_{M-1}^k C_{N-M}^{n-1-k}}{C_N^n}  = \\frac{M n}{N}\\sum_{k=0}^{n-1}(k+1)\\frac{C_{M-1}^k C_{N-1-M+1}^{n-1-k}}{C_{N-1}^{n-1}} = \\frac{M n}{N} E[\\eta + 1] = \\frac{M n}{N} (\\frac{(M-1)(n-1)}{(N-1)} + 1),$\n",
    "\n",
    "где $\\eta \\sim HG (N-1, M-1, n-1)$\n",
    "\n",
    "$D[\\xi] = E[\\xi^2] - (E[\\xi])^2 = \\frac{M n}{N} (\\frac{(M-1)(n-1)}{(N-1)} + 1 - \\frac{M n}{N})$\n",
    "\n",
    "Производящая функиця $g_\\xi(z) = E[z^\\xi] = \\sum_{k=0}^{n}z^k\\frac{C_M^k C_{N-M}^{n-k}}{C_N^n} $\n",
    "\n",
    "Характеристическая функция $\\phi_\\xi(t) = E[e^{it\\xi}] = \\sum_{k=0}^{n}e^{itk}\\frac{C_M^k C_{N-M}^{n-k}}{C_N^n} $"
   ]
  },
  {
   "cell_type": "markdown",
   "metadata": {},
   "source": [
    "### Зададим гипергеометрическое распределение $HG(200, 70, 10)$ используя модуль Scipy [1]"
   ]
  },
  {
   "cell_type": "code",
   "execution_count": 14,
   "metadata": {},
   "outputs": [],
   "source": [
    "from scipy.stats import hypergeom\n",
    "import matplotlib.pyplot as plt\n",
    "import numpy as np\n",
    "%matplotlib inline\n",
    "N, M, n = (200, 70, 10)\n",
    "hg = hypergeom(N, n, M)"
   ]
  },
  {
   "cell_type": "markdown",
   "metadata": {},
   "source": [
    "### Построение эмпирических функций распределения"
   ]
  },
  {
   "cell_type": "code",
   "execution_count": 18,
   "metadata": {},
   "outputs": [
    {
     "data": {
      "image/png": "[encoded data removed]",
      "text/plain": [
       "<Figure size 432x288 with 1 Axes>"
      ]
     },
     "metadata": {
      "needs_background": "light"
     },
     "output_type": "display_data"
    }
   ],
   "source": [
    "x = np.arange(-1, n)\n",
    "pmf = hg.pmf(x)\n",
    "fig = plt.figure()\n",
    "ax = fig.add_subplot(111)\n",
    "ax.plot(x, pmf, 'bo')\n",
    "ax.vlines(x, 0, pmf, lw=2)\n",
    "plt.show()"
   ]
  },
  {
   "cell_type": "markdown",
   "metadata": {},
   "source": [
    "#### Функция распределения"
   ]
  },
  {
   "cell_type": "code",
   "execution_count": 25,
   "metadata": {},
   "outputs": [
    {
     "data": {
      "image/png": "[encoded data removed]",
      "text/plain": [
       "<Figure size 432x288 with 1 Axes>"
      ]
     },
     "metadata": {
      "needs_background": "light"
     },
     "output_type": "display_data"
    }
   ],
   "source": [
    "x = np.arange(-1, n, 0.001)\n",
    "cdf = hg.cdf(x)\n",
    "fig = plt.figure()\n",
    "ax = fig.add_subplot(111)\n",
    "ax.plot(x, cdf, 'b')\n",
    "plt.show()"
   ]
  },
  {
   "cell_type": "markdown",
   "metadata": {},
   "source": [
    "### Классической моделью применения является оценка численности замкнутой популяции животных.\n",
    "\n",
    "    Проблема состоит, например, в определении численности N рыб, живущих на момент наблюдения в замкнутом водоеме, скажем, в пруду рыбоводного хозяйства [2]. Для определения (точнее, приближенной оценки) N исследователь отлавливает заданное количество M рыб, метит их каким-либо способом и возвращает в пруд. По истечении некоторого промежутка времени, когда, по его мнению, меченые рыбы “перемешались” с другими обитателями пруда, он снова отлавливает фиксированное количество n рыб (в математической статистике эта процедура называется извлечением выборки объема n из генеральной совокупности) и подсчитывает число m отмеченных рыб, попавших во второй улов. В рамках гипергеометрической модели такого эксперимента мы располагаем значениями параметров M и n, знаем результат m наблюдения случайной величины X, но не знаем значения параметра N гипергеометрического распределения P(X = k | N, M, n).\n",
    "\n",
    "    Один из основных методов решения обратных задач теории вероятностей (задач математической статистики), который называется методом максимального правдоподобия, состоит в выборе такого значения Nˆ параметра N, которое соответствует максимуму вероятности наблюдаемого исхода m в наблюдении X. Основной довод в пользу такого поведения статистика состоит в простом житейском наблюдении: если происходит какоелибо событие, то это событие должно иметь большую вероятность по сравнению с другими исходами статистического эксперимента.\n",
    "\n",
    "    Итак, метод максимального правдоподобия предлагает в качестве оценки неизвестного значения N (численности рыб в пруду) взять решения следующей задачи на экстремум:\n",
    "\n",
    "<center>$\\hat{N} = arg \\underset{N}\\max{\\frac{C_M^k C_{N-M}^{n-k}}{C_N^n}}  $</center>"
   ]
  },
  {
   "cell_type": "markdown",
   "metadata": {},
   "source": [
    "    Решить эту задачу можно с помощью определения значения N, при котором происходит смена неравенства\n",
    "<center>$\\hat{N} = \\frac{C_M^k C_{N-M}^{n-k}}{C_N^n} < \\frac{C_M^k C_{N+1-M}^{n-k}}{C_{N+1}^n}  $</center>\n",
    "    \n",
    "    на обратное. Используя известную формулу для вычисления биномиальных коэффициентов, находим, что это неравенство эквивалентно (N + 1)k > nM, откуда получаем оценку максимального правдоподобия для численности рыб в пруду:\n",
    "\n",
    "<center>$\\hat{N} = k   \\lfloor \\frac{n}{M} \\rfloor $</center>"
   ]
  },
  {
   "cell_type": "markdown",
   "metadata": {},
   "source": [
    "### Моделирование гипергеометрического распределения"
   ]
  },
  {
   "cell_type": "markdown",
   "metadata": {},
   "source": [
    "Вариантом моделирования случайно величины $\\xi$ с известной функцией распределения $F_\\xi(x)$ является метод обратных функций.[3]\n",
    "\n",
    "Заметим, что $F_\\xi: \\mathbb{R} \\rightarrow [0,1]$\n",
    "\n",
    "Пусть $\\eta \\sim R[0,1]$ - случайная величина, которую мы умеем моделировать, а $F_\\eta (x) = x$ - её функция распределения.\n",
    "\n",
    "Тогда $ F_{F_\\xi^{-1}(\\eta)}(x) = P(F_\\xi^{-1}(\\eta)<x) = P(\\eta<F_\\xi(x)) = F_\\eta(F_\\xi(x)) = F_\\xi(x)$\n",
    "\n",
    "Иными словами, если у нас есть $X_1, ..., X_n$ - выборка из стандартного равномерного распределения $R[0,1]$, то \n",
    "\n",
    "$F_\\xi^{-1} (X_1), ..., F_\\xi^{-1} (X_n) $ - выборка из моделируемого распределения случайно величины $\\xi$.\n",
    "\n",
    "Стоит заметить, что утверждение выше наклдывает ограничение на функцию $F_\\xi(x)$, которая должна быть биективной (иными словами строговозрастающей). Функция распределения гипергеометрического распределения является неубывающей, но никак не строговозрастающей. Для того, чтобы решить этот вопрос будет брать точную нижнюю границу полного праоброза известной нам функции распределения, то есть $inf\\{x| F_\\xi(x) = X_1\\}, ... ,inf\\{x| F_\\xi(x) = X_n\\}$- выборка моделируемого распределения случайно величины $\\xi$ свободной от ограничений на функцию распределения. "
   ]
  },
  {
   "cell_type": "markdown",
   "metadata": {},
   "source": [
    "# Гамма распределение\n",
    "\n",
    "### Основные характеристики\n",
    "\n",
    "$\\xi \\sim \\Gamma(\\alpha, \\theta), $\n",
    "\n",
    "$f(x) = \\frac{x^{\\alpha-1}\\theta^\\alpha e^{-x\\theta}}{\\Gamma(\\alpha)}, x \\geq 0$\n",
    "\n",
    "$ E[\\xi] = \\int_{-\\infty }^{+\\infty}x f(x)dx = \\int_{0}^{+\\infty}x \\frac{x^{\\alpha-1}\\theta^\\alpha e^{-x\\theta}}{\\Gamma(\\alpha)} dx= \\frac{\\theta^\\alpha}{\\Gamma(\\alpha)} \\int_{0}^{+\\infty} x^{\\alpha}e^{-x\\theta} dx = \\frac{\\theta^\\alpha}{\\Gamma(\\alpha)} \\int_{0}^{+\\infty}  \\big(\\frac{z}{\\theta} \\big)^\\alpha e^{-z} \\frac{dz}{\\theta} = \\frac{1}{\\theta\\ \\Gamma(\\alpha)}\\int_{0}^{+\\infty}z^\\alpha e^{-z}dz=\\frac{\\Gamma(\\alpha+1)}{\\theta\\ \\Gamma(\\alpha)}=\\frac{\\alpha}{\\theta}$\n",
    "\n",
    "$ E[\\xi^2] = \\int_{-\\infty }^{+\\infty}x^2 f(x)dx = \\int_{0}^{+\\infty}x^2 \\frac{x^{\\alpha-1}\\theta^\\alpha e^{-x\\theta}}{\\Gamma(\\alpha)} dx= \\frac{\\theta^\\alpha}{\\Gamma(\\alpha)} \\int_{0}^{+\\infty} x^{\\alpha+1}e^{-x\\theta} dx = \\frac{\\theta^\\alpha}{\\Gamma(\\alpha)} \\int_{0}^{+\\infty}  \\big(\\frac{z}{\\theta} \\big)^\\alpha+1 e^{-z} \\frac{dz}{\\theta} = \\frac{1}{\\theta^2\\ \\Gamma(\\alpha)}\\int_{0}^{+\\infty}z^\\alpha+1 e^{-z}dz=\\frac{\\Gamma(\\alpha+2)}{\\theta^2\\ \\Gamma(\\alpha)}=\\frac{\\alpha(\\alpha+1)}{\\theta^2}$\n",
    "\n",
    "$D[\\xi] = E[\\xi^2] - (E[\\xi])^2 = \\frac{\\alpha}{\\theta^2}$\n",
    "\n",
    "Характеристическая функция $\\phi_\\xi(t) = E[e^{it\\xi}] =  \\int_{0}^{+\\infty} e^{itx} \\frac{x^{\\alpha-1}\\theta^\\alpha e^{-x\\theta}}{\\Gamma(\\alpha)} dx= \\frac{\\theta^\\alpha}{\\Gamma(\\alpha)} \\int_{0}^{+\\infty} e^{(it-\\theta) x} x^{\\alpha-1} dx= \\frac{\\theta^\\alpha}{\\Gamma(\\alpha)} \\int_{0}^{+\\infty} e^{z} (\\frac{z}{it-\\theta})^{\\alpha-1} \\frac{dz}{it-\\theta}= \\frac{\\theta^\\alpha (it-\\theta)^{-\\alpha} \\Gamma(\\alpha)}{\\Gamma(\\alpha)} = \\theta^\\alpha (it-\\theta)^{-\\alpha} $\n",
    "\n",
    "### Известные соотношения:\n",
    "\n",
    "Если $\\xi_1, ... , \\xi_n $ - независимые экспоненциальные случайные величины, такие что  $ \\xi_i \\sim Exp(\\theta) \\space\\forall i=1,..,n$,то $ \\sum_{i=1}^n \\xi_i \\sim \\Gamma(n, \\theta)$\n",
    "\n",
    "Если $ \\xi \\sim \\Gamma(\\alpha, \\theta)$, то $c \\xi  \\sim \\Gamma(\\alpha, c\\theta)  \\space\\forall c>0$\n",
    "\n",
    "$\\Gamma(n/2, 1/2) \\equiv \\chi^2 (n), n \\in \\mathbb{N} $\n"
   ]
  },
  {
   "cell_type": "markdown",
   "metadata": {},
   "source": [
    "### Применения гамма-распределения"
   ]
  },
  {
   "cell_type": "markdown",
   "metadata": {},
   "source": [
    " Классическим методом применения гамма-распределения является моделирование других случайных величин."
   ]
  },
  {
   "cell_type": "markdown",
   "metadata": {},
   "source": [
    "Помимо этого гамма-распледелением описывает уязвимость живого оргазима к кумлятивному риску смерти. [4]"
   ]
  },
  {
   "cell_type": "markdown",
   "metadata": {},
   "source": [
    "Гамма-распределению могут быть подчинены такие величины, как общий срок службы изделия, время наработки до k-го отказа.\n",
    "Также, это распределение используется в логистике для описания спроса в моделях управления запасами [5]."
   ]
  },
  {
   "cell_type": "markdown",
   "metadata": {},
   "source": [
    "### Выведем плотность гамма распределения $\\Gamma(2, 1/2)$, задав эти функции вручную"
   ]
  },
  {
   "cell_type": "code",
   "execution_count": 86,
   "metadata": {},
   "outputs": [],
   "source": [
    "import matplotlib.pyplot as plt\n",
    "import numpy as np\n",
    "import scipy.integrate as integrate\n",
    "import scipy.special as sps\n",
    "%matplotlib inline\n",
    "a, th = (2, 1/2)\n",
    "def f_gamma(x):\n",
    "    return np.exp(-x*th) * th**a * x**(a-1) / (sps.gamma(a))\n",
    "\n",
    "def F_gamma(x):\n",
    "    return [(integrate.quad(f_gamma, 0, a)[0] if a>0 else 0) for a in x]"
   ]
  },
  {
   "cell_type": "markdown",
   "metadata": {},
   "source": [
    "#### Плотность распределения"
   ]
  },
  {
   "cell_type": "code",
   "execution_count": 66,
   "metadata": {},
   "outputs": [
    {
     "data": {
      "image/png": "[encoded data removed]",
      "text/plain": [
       "<Figure size 432x288 with 1 Axes>"
      ]
     },
     "metadata": {
      "needs_background": "light"
     },
     "output_type": "display_data"
    }
   ],
   "source": [
    "x = np.arange(0, 20, 0.001)\n",
    "y = f_gamma(x)\n",
    "plt.plot(x, y)\n",
    "plt.show()"
   ]
  },
  {
   "cell_type": "markdown",
   "metadata": {},
   "source": [
    "#### Функция распределения"
   ]
  },
  {
   "cell_type": "code",
   "execution_count": 87,
   "metadata": {},
   "outputs": [
    {
     "data": {
      "image/png": "[encoded data removed]",
      "text/plain": [
       "<Figure size 432x288 with 1 Axes>"
      ]
     },
     "metadata": {
      "needs_background": "light"
     },
     "output_type": "display_data"
    }
   ],
   "source": [
    "x = np.arange(-2, 20, 0.001)\n",
    "y = F_gamma(x)\n",
    "plt.plot(x, y)\n",
    "plt.show()"
   ]
  },
  {
   "cell_type": "markdown",
   "metadata": {},
   "source": [
    "### Моделирование гамма-распределения"
   ]
  },
  {
   "cell_type": "markdown",
   "metadata": {},
   "source": [
    "Задача: получить гамма-распределение с параметрами $\\alpha, \\theta$, предпологая, что есть возможность моделирования стандартного равномерного распределения $R(0,1]$. Пусть $\\chi \\sim R(0,1]$.\n",
    "\n",
    "Будем считать, что $\\alpha=n+\\delta$, где $n \\in \\mathbb{N}, \\delta \\in (0,1)$\n",
    "\n",
    "Заметим, что $\\Gamma(1, 1) = Exp(1)$. Тогда $-ln \\space \\chi \\sim \\Gamma(1, 1)$.\n",
    "По свойству гамма-распределения $\\Gamma(n, 1)=\\sum_{i=1}^{n} \\Gamma(1, 1)$, то есть \n",
    "\n",
    "$-\\sum_{i=1}^{n}ln \\space \\chi_i \\sim \\Gamma(1, 1) \\space \\forall n \\in \\mathbb{N}$, где $\\chi_i \\sim R(0,1]$ - независимые случайные величины\n",
    "\n",
    "Получим сначала распределение $\\Gamma(\\delta, 1)$, где $\\delta \\in (0, 1)$. Воспользуемся алгоритмом [6], основанном на выборке с отклонением. Пусть $v_0 = \\frac{e}{e+\\delta}$.\n",
    "1. Положим m=1.\n",
    "2. Сгенерируем $V_{2m-1}$ и $V_{2m}$ - независимые случайные величины, равномерно распределённые на интервале $(0, 1]$.\n",
    "3. Если $V_{2m-1} < v_0$, то положим $\\xi_m=(\\frac{V_{2m-1}}{v_0})^{1/\\delta},  \\eta_m=V_{2m} \\xi_m^{\\delta -1 }$, иначе $\\xi_m=1-ln\\frac{V_{2m-1}-v_0}{1-v_0},  \\eta_m=V_{2m} e^{-\\xi_m}$\n",
    "4. Если $ \\eta_m >  \\xi_m^{\\delta -1 } e^{-\\xi_m}$, то учевличим $m$ на $1$ и вернёмся к шагу 2, иначе $\\xi=\\xi_m$ примем за реализацию $\\Gamma(\\delta, 1)$\n",
    "\n",
    "Итак, теперь имеем $\\xi-\\sum_{i=1}^{n}ln \\space \\chi_i \\sim \\Gamma(\\alpha, 1)$\n",
    "\n",
    "Тогда по свойству гамма-распеделения $\\theta(\\xi-\\sum_{i=1}^{n}ln \\space \\chi_i) \\sim \\Gamma(\\alpha, \\theta)$"
   ]
  },
  {
   "cell_type": "markdown",
   "metadata": {},
   "source": [
    "[1] https://docs.scipy.org/doc/scipy-0.14.0/reference/generated/scipy.stats.hypergeom.html <br>\n",
    "[2] https://kpfu.ru/docs/F1021260618/TViMS.pdf <br>\n",
    "[3] Вадзинский Р.Н. Справочник по вероятностным распределениям. - СПб.: Наука, 2001, 295 с. <br>\n",
    "[4] https://books.google.ru/books?id=c210AgAAQBAJ&pg=PA196&lpg=PA196&dq=%D0%BF%D0%BE%D0%BF%D1%83%D0%BB%D1%8F%D1%86%D0%B8%D1%8F+%D0%B3%D0%B0%D0%BC%D0%BC%D0%B0-%D1%80%D0%B0%D1%81%D0%BF%D1%80%D0%B5%D0%B4%D0%B5%D0%BB%D0%B5%D0%BD%D0%B8%D0%B5&source=bl&ots=lCtxofnVqZ&sig=ACfU3U3lFh_rRICVHSUSt2aFNVvS0jrf-Q&hl=ru&sa=X&ved=2ahUKEwj-oeamq6vlAhVjwqYKHVarBAwQ6AEwBnoECAkQAQ#v=onepage&q=%D0%BF%D0%BE%D0%BF%D1%83%D0%BB%D1%8F%D1%86%D0%B8%D1%8F%20%D0%B3%D0%B0%D0%BC%D0%BC%D0%B0-%D1%80%D0%B0%D1%81%D0%BF%D1%80%D0%B5%D0%B4%D0%B5%D0%BB%D0%B5%D0%BD%D0%B8%D0%B5&f=false <br>\n",
    "[5] https://core.ac.uk/download/pdf/6243682.pdf <br>\n",
    "[6] https://cyberleninka.ru/article/v/generirovanie-rekordov-metodom-vyborki-s-otkloneniem <br>"
   ]
  }
 ],
 "metadata": {
  "kernelspec": {
   "display_name": "Python 3",
   "language": "python",
   "name": "python3"
  },
  "language_info": {
   "codemirror_mode": {
    "name": "ipython",
    "version": 3
   },
   "file_extension": ".py",
   "mimetype": "text/x-python",
   "name": "python",
   "nbconvert_exporter": "python",
   "pygments_lexer": "ipython3",
   "version": "3.7.2"
  }
 },
 "nbformat": 4,
 "nbformat_minor": 2
}
